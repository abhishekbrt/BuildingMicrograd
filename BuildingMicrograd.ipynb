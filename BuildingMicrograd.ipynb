{
  "nbformat": 4,
  "nbformat_minor": 0,
  "metadata": {
    "colab": {
      "provenance": []
    },
    "kernelspec": {
      "name": "python3",
      "display_name": "Python 3"
    },
    "language_info": {
      "name": "python"
    }
  },
  "cells": [
    {
      "cell_type": "code",
      "source": [
        "import random\n",
        "import matplotlib.pyplot as plt\n"
      ],
      "metadata": {
        "id": "8i20cuTwwAtz"
      },
      "execution_count": 1,
      "outputs": []
    },
    {
      "cell_type": "code",
      "source": [
        "\n",
        "class Value:\n",
        "    def __init__(self, data, _children=(), _op=''):\n",
        "        self.data = data\n",
        "        self.grad = 0.0\n",
        "        self._backward = lambda: None\n",
        "        self._prev = set(_children)\n",
        "        self._op = _op\n",
        "\n",
        "    def __repr__(self):\n",
        "        return f\"Value(data={self.data})\"\n",
        "\n",
        "    def __add__(self, other):\n",
        "        other = other if isinstance(other, Value) else Value(other)\n",
        "        out = Value(self.data + other.data, (self, other), '+')\n",
        "\n",
        "        def _backward():\n",
        "            self.grad += out.grad\n",
        "            other.grad += out.grad\n",
        "        out._backward = _backward\n",
        "\n",
        "        return out\n",
        "\n",
        "    def __mul__(self, other):\n",
        "        other = other if isinstance(other, Value) else Value(other)\n",
        "        out = Value(self.data * other.data, (self, other), '*')\n",
        "\n",
        "        def _backward():\n",
        "            self.grad += other.data * out.grad\n",
        "            other.grad += self.data * out.grad\n",
        "        out._backward = _backward\n",
        "\n",
        "        return out\n",
        "\n",
        "    def __pow__(self, other):\n",
        "        assert isinstance(other, (int, float)), \"only supporting int/float powers for now\"\n",
        "        out = Value(self.data**other, (self,), f'**{other}')\n",
        "\n",
        "        def _backward():\n",
        "            self.grad += (other * self.data**(other - 1)) * out.grad\n",
        "        out._backward = _backward\n",
        "\n",
        "        return out\n",
        "\n",
        "    def relu(self):\n",
        "        out = Value(0 if self.data < 0 else self.data, (self,), 'ReLU')\n",
        "\n",
        "        def _backward():\n",
        "            self.grad += (out.data > 0) * out.grad\n",
        "        out._backward = _backward\n",
        "\n",
        "        return out\n",
        "\n",
        "    def tanh(self):\n",
        "        import math\n",
        "        x=self.data\n",
        "        t=(math.exp(2*x)-1)/(math.exp(2*x)+1)\n",
        "        out=Value(t,(self,),'tanh')\n",
        "\n",
        "        #backward: d/dx tanh(x)=1-tanh(x)^2\n",
        "        def _backward():\n",
        "            self.grad+=(1-t**2)*out.grad\n",
        "        out._backward=_backward\n",
        "        return out\n",
        "\n",
        "\n",
        "\n",
        "    def backward(self):\n",
        "        # Topological order of all the children in graph\n",
        "        topo = []\n",
        "        visited = set()\n",
        "        def build_topo(v):\n",
        "            if v not in visited:\n",
        "                visited.add(v)\n",
        "                for child in v._prev:\n",
        "                    build_topo(child)\n",
        "                topo.append(v)\n",
        "        build_topo(self)\n",
        "\n",
        "        # Go one variable at a time and apply chain rule to get its gradient\n",
        "        self.grad = 1.0\n",
        "        for v in reversed(topo):\n",
        "            v._backward()\n",
        "\n",
        "    def __neg__(self): # -self\n",
        "        return self * -1\n",
        "\n",
        "    def __radd__(self, other): # other + self\n",
        "        return self + other\n",
        "\n",
        "    def __sub__(self, other): # self - other\n",
        "        return self + (-other)\n",
        "\n",
        "    def __rsub__(self, other): # other - self\n",
        "        return other + (-self)\n",
        "\n",
        "    def __rmul__(self, other): # other * self\n",
        "        return self * other\n",
        "\n",
        "    def __truediv__(self, other): # self / other\n",
        "        return self * other**-1\n",
        "\n",
        "    def __rtruediv__(self, other): # other / self\n",
        "        return other * self**-1\n",
        "\n",
        "    # def __repr__(self):\n",
        "    #     return f\"Value(data={self.data}, grad={self.grad})\"\n",
        "\n",
        "\n",
        "# --- Example Usage ---\n",
        "a = Value(3.0)\n",
        "b = Value(-2.0)\n",
        "c = a + b\n",
        "d = a * b * c\n",
        "d - 3\n",
        "\n"
      ],
      "metadata": {
        "colab": {
          "base_uri": "https://localhost:8080/"
        },
        "id": "hLWz23Z3NKF0",
        "outputId": "0705578b-69d4-4ee4-f5b0-177d3007cd12"
      },
      "execution_count": 2,
      "outputs": [
        {
          "output_type": "execute_result",
          "data": {
            "text/plain": [
              "Value(data=-9.0)"
            ]
          },
          "metadata": {},
          "execution_count": 2
        }
      ]
    },
    {
      "cell_type": "code",
      "source": [
        "d._prev"
      ],
      "metadata": {
        "colab": {
          "base_uri": "https://localhost:8080/"
        },
        "id": "8QEKpZ2bPNmF",
        "outputId": "64c88401-1a23-4d9a-e7bc-e7409a120aa7"
      },
      "execution_count": 3,
      "outputs": [
        {
          "output_type": "execute_result",
          "data": {
            "text/plain": [
              "{Value(data=-6.0), Value(data=1.0)}"
            ]
          },
          "metadata": {},
          "execution_count": 3
        }
      ]
    },
    {
      "cell_type": "code",
      "source": [
        "from graphviz import Digraph\n",
        "\n",
        "def trace(root):\n",
        "  #builds a set of all nodes and edges in graph\n",
        "  nodes,edges=set(),set()\n",
        "  def build(v):\n",
        "    if v not in nodes:\n",
        "      nodes.add(v)\n",
        "      for child in v._prev:\n",
        "        edges.add((child,v))\n",
        "        build(child)\n",
        "  build(root)\n",
        "  return nodes,edges\n",
        "\n",
        "\n",
        "def draw_dot(root):\n",
        "  dot=Digraph(format='svg',graph_attr={'rankdir':'LR'}) #LR = left to right\n",
        "  nodes,edges=trace(root)\n",
        "\n",
        "\n",
        "  for n in nodes:\n",
        "    uid=str(id(n))\n",
        "    #for any value in graph create a rectangular ('record') node for it\n",
        "    dot.node(name=uid,label=\"{data %.4f | grad %.4f}\"%(n.data,n.grad,),shape='record')\n",
        "    if n._op:\n",
        "      #if this is a result of some operation create an op node for it\n",
        "      dot.node(name=uid+n._op,label=n._op)\n",
        "      #and connect this node to it\n",
        "      dot.edge(uid+n._op,uid)\n",
        "\n",
        "  for n1,n2 in edges:\n",
        "    #connect n1 to the op node of n2\n",
        "    dot.edge(str(id(n1)),str(id(n2))+n2._op)\n",
        "\n",
        "  return dot"
      ],
      "metadata": {
        "id": "e32v-LysTLj8"
      },
      "execution_count": 4,
      "outputs": []
    },
    {
      "cell_type": "code",
      "source": [
        "draw_dot(d)"
      ],
      "metadata": {
        "colab": {
          "base_uri": "https://localhost:8080/",
          "height": 155
        },
        "id": "ZHNXn8VObyMI",
        "outputId": "c60b5480-f61a-44b1-a61c-957c3dfed0f8"
      },
      "execution_count": 5,
      "outputs": [
        {
          "output_type": "execute_result",
          "data": {
            "image/svg+xml": "<?xml version=\"1.0\" encoding=\"UTF-8\" standalone=\"no\"?>\n<!DOCTYPE svg PUBLIC \"-//W3C//DTD SVG 1.1//EN\"\n \"http://www.w3.org/Graphics/SVG/1.1/DTD/svg11.dtd\">\n<!-- Generated by graphviz version 2.43.0 (0)\n -->\n<!-- Title: %3 Pages: 1 -->\n<svg width=\"761pt\" height=\"100pt\"\n viewBox=\"0.00 0.00 761.00 100.00\" xmlns=\"http://www.w3.org/2000/svg\" xmlns:xlink=\"http://www.w3.org/1999/xlink\">\n<g id=\"graph0\" class=\"graph\" transform=\"scale(1 1) rotate(0) translate(4 96)\">\n<title>%3</title>\n<polygon fill=\"white\" stroke=\"transparent\" points=\"-4,4 -4,-96 757,-96 757,4 -4,4\"/>\n<!-- 138651708042768 -->\n<g id=\"node1\" class=\"node\">\n<title>138651708042768</title>\n<polygon fill=\"none\" stroke=\"black\" points=\"0,-55.5 0,-91.5 167,-91.5 167,-55.5 0,-55.5\"/>\n<text text-anchor=\"middle\" x=\"42.5\" y=\"-69.8\" font-family=\"Times,serif\" font-size=\"14.00\">data &#45;2.0000</text>\n<polyline fill=\"none\" stroke=\"black\" points=\"85,-55.5 85,-91.5 \"/>\n<text text-anchor=\"middle\" x=\"126\" y=\"-69.8\" font-family=\"Times,serif\" font-size=\"14.00\">grad 0.0000</text>\n</g>\n<!-- 138651708032304* -->\n<g id=\"node5\" class=\"node\">\n<title>138651708032304*</title>\n<ellipse fill=\"none\" stroke=\"black\" cx=\"230\" cy=\"-73.5\" rx=\"27\" ry=\"18\"/>\n<text text-anchor=\"middle\" x=\"230\" y=\"-69.8\" font-family=\"Times,serif\" font-size=\"14.00\">*</text>\n</g>\n<!-- 138651708042768&#45;&gt;138651708032304* -->\n<g id=\"edge8\" class=\"edge\">\n<title>138651708042768&#45;&gt;138651708032304*</title>\n<path fill=\"none\" stroke=\"black\" d=\"M167.3,-73.5C176.14,-73.5 184.77,-73.5 192.64,-73.5\"/>\n<polygon fill=\"black\" stroke=\"black\" points=\"192.85,-77 202.85,-73.5 192.85,-70 192.85,-77\"/>\n</g>\n<!-- 138651708031296+ -->\n<g id=\"node7\" class=\"node\">\n<title>138651708031296+</title>\n<ellipse fill=\"none\" stroke=\"black\" cx=\"230\" cy=\"-18.5\" rx=\"27\" ry=\"18\"/>\n<text text-anchor=\"middle\" x=\"230\" y=\"-14.8\" font-family=\"Times,serif\" font-size=\"14.00\">+</text>\n</g>\n<!-- 138651708042768&#45;&gt;138651708031296+ -->\n<g id=\"edge5\" class=\"edge\">\n<title>138651708042768&#45;&gt;138651708031296+</title>\n<path fill=\"none\" stroke=\"black\" d=\"M142.48,-55.4C150.76,-52.56 159.13,-49.55 167,-46.5 177.43,-42.45 188.63,-37.57 198.6,-33.02\"/>\n<polygon fill=\"black\" stroke=\"black\" points=\"200.12,-36.17 207.72,-28.8 197.18,-29.82 200.12,-36.17\"/>\n</g>\n<!-- 138651708044544 -->\n<g id=\"node2\" class=\"node\">\n<title>138651708044544</title>\n<polygon fill=\"none\" stroke=\"black\" points=\"586,-27.5 586,-63.5 753,-63.5 753,-27.5 586,-27.5\"/>\n<text text-anchor=\"middle\" x=\"628.5\" y=\"-41.8\" font-family=\"Times,serif\" font-size=\"14.00\">data &#45;6.0000</text>\n<polyline fill=\"none\" stroke=\"black\" points=\"671,-27.5 671,-63.5 \"/>\n<text text-anchor=\"middle\" x=\"712\" y=\"-41.8\" font-family=\"Times,serif\" font-size=\"14.00\">grad 0.0000</text>\n</g>\n<!-- 138651708044544* -->\n<g id=\"node3\" class=\"node\">\n<title>138651708044544*</title>\n<ellipse fill=\"none\" stroke=\"black\" cx=\"523\" cy=\"-45.5\" rx=\"27\" ry=\"18\"/>\n<text text-anchor=\"middle\" x=\"523\" y=\"-41.8\" font-family=\"Times,serif\" font-size=\"14.00\">*</text>\n</g>\n<!-- 138651708044544*&#45;&gt;138651708044544 -->\n<g id=\"edge1\" class=\"edge\">\n<title>138651708044544*&#45;&gt;138651708044544</title>\n<path fill=\"none\" stroke=\"black\" d=\"M550.17,-45.5C557.75,-45.5 566.5,-45.5 575.74,-45.5\"/>\n<polygon fill=\"black\" stroke=\"black\" points=\"575.92,-49 585.92,-45.5 575.92,-42 575.92,-49\"/>\n</g>\n<!-- 138651708032304 -->\n<g id=\"node4\" class=\"node\">\n<title>138651708032304</title>\n<polygon fill=\"none\" stroke=\"black\" points=\"293,-55.5 293,-91.5 460,-91.5 460,-55.5 293,-55.5\"/>\n<text text-anchor=\"middle\" x=\"335.5\" y=\"-69.8\" font-family=\"Times,serif\" font-size=\"14.00\">data &#45;6.0000</text>\n<polyline fill=\"none\" stroke=\"black\" points=\"378,-55.5 378,-91.5 \"/>\n<text text-anchor=\"middle\" x=\"419\" y=\"-69.8\" font-family=\"Times,serif\" font-size=\"14.00\">grad 0.0000</text>\n</g>\n<!-- 138651708032304&#45;&gt;138651708044544* -->\n<g id=\"edge9\" class=\"edge\">\n<title>138651708032304&#45;&gt;138651708044544*</title>\n<path fill=\"none\" stroke=\"black\" d=\"M460.3,-57.46C469.61,-55.65 478.68,-53.89 486.88,-52.31\"/>\n<polygon fill=\"black\" stroke=\"black\" points=\"487.59,-55.73 496.75,-50.39 486.26,-48.86 487.59,-55.73\"/>\n</g>\n<!-- 138651708032304*&#45;&gt;138651708032304 -->\n<g id=\"edge2\" class=\"edge\">\n<title>138651708032304*&#45;&gt;138651708032304</title>\n<path fill=\"none\" stroke=\"black\" d=\"M257.17,-73.5C264.75,-73.5 273.5,-73.5 282.74,-73.5\"/>\n<polygon fill=\"black\" stroke=\"black\" points=\"282.92,-77 292.92,-73.5 282.92,-70 282.92,-77\"/>\n</g>\n<!-- 138651708031296 -->\n<g id=\"node6\" class=\"node\">\n<title>138651708031296</title>\n<polygon fill=\"none\" stroke=\"black\" points=\"295.5,-0.5 295.5,-36.5 457.5,-36.5 457.5,-0.5 295.5,-0.5\"/>\n<text text-anchor=\"middle\" x=\"335.5\" y=\"-14.8\" font-family=\"Times,serif\" font-size=\"14.00\">data 1.0000</text>\n<polyline fill=\"none\" stroke=\"black\" points=\"375.5,-0.5 375.5,-36.5 \"/>\n<text text-anchor=\"middle\" x=\"416.5\" y=\"-14.8\" font-family=\"Times,serif\" font-size=\"14.00\">grad 0.0000</text>\n</g>\n<!-- 138651708031296&#45;&gt;138651708044544* -->\n<g id=\"edge7\" class=\"edge\">\n<title>138651708031296&#45;&gt;138651708044544*</title>\n<path fill=\"none\" stroke=\"black\" d=\"M457.78,-33.5C467.96,-35.4 477.92,-37.26 486.85,-38.93\"/>\n<polygon fill=\"black\" stroke=\"black\" points=\"486.33,-42.4 496.8,-40.79 487.61,-35.51 486.33,-42.4\"/>\n</g>\n<!-- 138651708031296+&#45;&gt;138651708031296 -->\n<g id=\"edge3\" class=\"edge\">\n<title>138651708031296+&#45;&gt;138651708031296</title>\n<path fill=\"none\" stroke=\"black\" d=\"M257.17,-18.5C265.4,-18.5 275.01,-18.5 285.12,-18.5\"/>\n<polygon fill=\"black\" stroke=\"black\" points=\"285.37,-22 295.37,-18.5 285.37,-15 285.37,-22\"/>\n</g>\n<!-- 138651708034416 -->\n<g id=\"node8\" class=\"node\">\n<title>138651708034416</title>\n<polygon fill=\"none\" stroke=\"black\" points=\"2.5,-0.5 2.5,-36.5 164.5,-36.5 164.5,-0.5 2.5,-0.5\"/>\n<text text-anchor=\"middle\" x=\"42.5\" y=\"-14.8\" font-family=\"Times,serif\" font-size=\"14.00\">data 3.0000</text>\n<polyline fill=\"none\" stroke=\"black\" points=\"82.5,-0.5 82.5,-36.5 \"/>\n<text text-anchor=\"middle\" x=\"123.5\" y=\"-14.8\" font-family=\"Times,serif\" font-size=\"14.00\">grad 0.0000</text>\n</g>\n<!-- 138651708034416&#45;&gt;138651708032304* -->\n<g id=\"edge6\" class=\"edge\">\n<title>138651708034416&#45;&gt;138651708032304*</title>\n<path fill=\"none\" stroke=\"black\" d=\"M139.76,-36.54C148.9,-39.73 158.25,-43.12 167,-46.5 177.18,-50.44 188.15,-55.08 197.99,-59.39\"/>\n<polygon fill=\"black\" stroke=\"black\" points=\"196.82,-62.7 207.38,-63.55 199.66,-56.3 196.82,-62.7\"/>\n</g>\n<!-- 138651708034416&#45;&gt;138651708031296+ -->\n<g id=\"edge4\" class=\"edge\">\n<title>138651708034416&#45;&gt;138651708031296+</title>\n<path fill=\"none\" stroke=\"black\" d=\"M164.78,-18.5C174.57,-18.5 184.16,-18.5 192.82,-18.5\"/>\n<polygon fill=\"black\" stroke=\"black\" points=\"192.88,-22 202.88,-18.5 192.88,-15 192.88,-22\"/>\n</g>\n</g>\n</svg>\n",
            "text/plain": [
              "<graphviz.graphs.Digraph at 0x7e1a5db0f290>"
            ]
          },
          "metadata": {},
          "execution_count": 5
        }
      ]
    },
    {
      "cell_type": "code",
      "source": [
        "class Neuron:\n",
        "    def __init__(self,nin):\n",
        "        self.w=[Value(random.uniform(-1,1)) for _ in range(nin)]\n",
        "        self.b=Value(random.uniform(-1,1))\n",
        "\n",
        "    def __call__(self,x):\n",
        "        # w*x+b\n",
        "        act=sum((wi*xi for wi,xi in zip(self.w,x)),self.b)\n",
        "        out=act.tanh()\n",
        "        return out\n",
        "\n",
        "    def parameters(self):\n",
        "        return self.w+[self.b]\n",
        "\n",
        "\n",
        "class Layer:\n",
        "\n",
        "    #nin=number of input to each neuron, nout=number of neuron in each layer\n",
        "    def __init__(self,nin,nout):\n",
        "        self.neurons=[Neuron(nin) for _ in range(nout)]\n",
        "\n",
        "    def __call__(self,x):\n",
        "        outs=[neuron(x) for neuron in self.neurons]\n",
        "        return outs[0] if len(outs)==1 else outs\n",
        "\n",
        "    def parameters(self):\n",
        "        return [p for n in self.neurons for p in n.parameters()]\n",
        "\n",
        "\n",
        "class MLP:\n",
        "    #nin=number of layer in MLP, nouts=list consisting of number of neuron in each layer\n",
        "    def __init__(self,nin,nouts):\n",
        "        sz=[nin]+nouts\n",
        "        self.layers=[Layer(sz[i],sz[i+1])for i in range(len(nouts))]\n",
        "\n",
        "    def __call__(self,x):\n",
        "        for layer in self.layers:\n",
        "            x=layer(x)\n",
        "        return x\n",
        "\n",
        "    def parameters(self):\n",
        "        return [p for layer in self.layers for p in layer.parameters()]\n",
        "\n",
        "\n",
        "\n",
        "\n"
      ],
      "metadata": {
        "id": "6Rc9ODeYz2rF"
      },
      "execution_count": 6,
      "outputs": []
    },
    {
      "cell_type": "code",
      "source": [
        "x=[-1.0,2.0,3.2,5.1]\n",
        "n=MLP(4,[4,8,8,4,1])\n",
        "n(x)\n"
      ],
      "metadata": {
        "colab": {
          "base_uri": "https://localhost:8080/"
        },
        "id": "ivMKlYBfPhEG",
        "outputId": "2e23a474-c3ae-4c80-f387-67a76c5c2af8"
      },
      "execution_count": 7,
      "outputs": [
        {
          "output_type": "execute_result",
          "data": {
            "text/plain": [
              "Value(data=0.6489545759233757)"
            ]
          },
          "metadata": {},
          "execution_count": 7
        }
      ]
    },
    {
      "cell_type": "code",
      "source": [
        "xs=[\n",
        "    [2.2,4.0,-5.0,0.2],\n",
        "    [0.4,-0.8,2.0,1.2],\n",
        "    [-0.9,0.5,3.0,1.0],\n",
        "]\n",
        "ys=[1.0,0.25,-0.7] #desired targets\n"
      ],
      "metadata": {
        "id": "BsAKrMJhQtLO"
      },
      "execution_count": 8,
      "outputs": []
    },
    {
      "cell_type": "code",
      "source": [
        "# ypred=[n(x) for x in xs]\n",
        "# loss=sum((yout-ygt)**2 for yout,ygt in zip(ypred,ys))\n",
        "# ypred\n"
      ],
      "metadata": {
        "id": "RYbcXdSBSV8C"
      },
      "execution_count": 9,
      "outputs": []
    },
    {
      "cell_type": "code",
      "source": [
        "# loss.backward()\n",
        "# loss"
      ],
      "metadata": {
        "id": "JYkqztDlWN6l"
      },
      "execution_count": 10,
      "outputs": []
    },
    {
      "cell_type": "code",
      "source": [
        "# for p in n.parameters():\n",
        "#     p.data+= -0.01 * p.grad\n"
      ],
      "metadata": {
        "id": "q0VRquOsWURa"
      },
      "execution_count": 11,
      "outputs": []
    },
    {
      "cell_type": "code",
      "source": [
        "losses=[]\n",
        "for _ in range(1000):\n",
        "    ypred=[n(x) for x in xs] #forward pass\n",
        "    loss=sum((yout-ygt)**2 for yout,ygt in zip(ypred,ys))\n",
        "    losses.append(loss.data)\n",
        "\n",
        "    for k in n.parameters():\n",
        "        k.grad=0\n",
        "    loss.backward()\n",
        "    for p in n.parameters():\n",
        "        p.data+= -0.01 * p.grad\n",
        "\n"
      ],
      "metadata": {
        "id": "9_ndWLdaYpER"
      },
      "execution_count": 12,
      "outputs": []
    },
    {
      "cell_type": "code",
      "source": [
        "plt.plot(losses)\n",
        "plt.show()"
      ],
      "metadata": {
        "colab": {
          "base_uri": "https://localhost:8080/",
          "height": 430
        },
        "id": "BT5z6165ZveE",
        "outputId": "ddaa374a-45ab-4011-f015-82230f993ef7"
      },
      "execution_count": 13,
      "outputs": [
        {
          "output_type": "display_data",
          "data": {
            "text/plain": [
              "<Figure size 640x480 with 1 Axes>"
            ],
            "image/png": "[encoded data removed]"
          },
          "metadata": {}
        }
      ]
    },
    {
      "cell_type": "code",
      "source": [
        "ypred"
      ],
      "metadata": {
        "colab": {
          "base_uri": "https://localhost:8080/"
        },
        "id": "VH9kk6ucdPQw",
        "outputId": "95ca2b1b-37a7-4107-b898-0bd47545ba56"
      },
      "execution_count": 14,
      "outputs": [
        {
          "output_type": "execute_result",
          "data": {
            "text/plain": [
              "[Value(data=0.979148892592266),\n",
              " Value(data=0.24983969540824963),\n",
              " Value(data=-0.699900857425786)]"
            ]
          },
          "metadata": {},
          "execution_count": 14
        }
      ]
    }
  ]
}